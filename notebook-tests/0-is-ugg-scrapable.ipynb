{
 "cells": [
  {
   "cell_type": "code",
   "execution_count": 18,
   "metadata": {},
   "outputs": [],
   "source": [
    "import sys\n",
    "import os\n",
    "import pandas as pd\n",
    "import numpy as np\n",
    "import pandas as pd\n",
    "import matplotlib.pyplot as plt\n",
    "import seaborn as sns\n",
    "import requests\n",
    "from bs4 import BeautifulSoup"
   ]
  },
  {
   "cell_type": "code",
   "execution_count": 10,
   "metadata": {},
   "outputs": [],
   "source": [
    "def load_page_with_timeout(driver, url : str, timeout=5):\n",
    "    driver.set_page_load_timeout(timeout)\n",
    "    try:\n",
    "        driver.get(url)\n",
    "    except:\n",
    "        driver.execute_script(\"window.stop();\")"
   ]
  },
  {
   "cell_type": "code",
   "execution_count": 1,
   "metadata": {},
   "outputs": [],
   "source": [
    "from selenium import webdriver\n",
    "\n",
    "def get_chrome(headless :bool = False, adblock_extenstion_path : str = None ) -> webdriver.Chrome :\n",
    "    \"\"\"\n",
    "    Initializes and returns a Chrome WebDriver instance.\n",
    "\n",
    "    Args:\n",
    "        headless (bool, optional): Whether to run in headless mode. Defaults to False.\n",
    "        adblock_extenstion_path (str, optional): The path to the adblock extension. Defaults to None.\n",
    "\n",
    "    Returns:\n",
    "        webdriver.Chrome: A Chrome WebDriver instance.\n",
    "    \"\"\"\n",
    "    options = webdriver.ChromeOptions()\n",
    "    options.add_argument('--ignore-certificate-errors')\n",
    "    if adblock_extenstion_path != None :\n",
    "        options.add_extension(adblock_extenstion_path)\n",
    "    if headless :\n",
    "        options.add_argument('--headless')\n",
    "    options.add_argument('--blink-settings=imagesEnabled=false')\n",
    "    options.add_argument(\"--log-level=3\")\n",
    "\n",
    "    return webdriver.Chrome( options=options )"
   ]
  },
  {
   "cell_type": "code",
   "execution_count": 11,
   "metadata": {},
   "outputs": [],
   "source": [
    "driver = get_chrome(headless=False)\n",
    "load_page_with_timeout(driver, \"https://www.google.com/search?q=python+download\", timeout=5)"
   ]
  },
  {
   "cell_type": "code",
   "execution_count": 20,
   "metadata": {},
   "outputs": [],
   "source": [
    "response = requests.get('https://www.op.gg/champions?position=top&tier=challenger')"
   ]
  },
  {
   "cell_type": "code",
   "execution_count": 23,
   "metadata": {},
   "outputs": [
    {
     "data": {
      "text/plain": [
       "<Response [200]>"
      ]
     },
     "execution_count": 23,
     "metadata": {},
     "output_type": "execute_result"
    }
   ],
   "source": [
    "response"
   ]
  },
  {
   "cell_type": "code",
   "execution_count": 24,
   "metadata": {},
   "outputs": [],
   "source": [
    "data = BeautifulSoup(response.text).find('table')"
   ]
  },
  {
   "cell_type": "code",
   "execution_count": null,
   "metadata": {},
   "outputs": [],
   "source": [
    "all_tiers = ['challenger', 'master_plus', 'master_plus', 'master', 'diamond_plus', 'diamond', 'emerald_plus', 'master', 'platinum_plus', 'platinium', 'gold_plus', 'gold', 'silver_plus', 'silver', 'bronze_plus', 'bronze', 'iron_plus', 'iron']\n",
    "all_roles = ['top', 'jungle', 'mid', 'adc', 'support']\n",
    "all_patches = ['15.04']"
   ]
  },
  {
   "cell_type": "code",
   "execution_count": 49,
   "metadata": {},
   "outputs": [],
   "source": [
    "def get_role_rank_patch_winrate(role, rank, patch):\n",
    "    response = requests.get(f'https://www.op.gg/champions?position={role}&tier={rank}&patch={patch}')\n",
    "    data = BeautifulSoup(response.text).find('table')\n",
    "\n",
    "    rows = data.find('tbody').find_all('tr', class_ = \"\")\n",
    "    rows = [row for row in rows]\n",
    "\n",
    "    champions = []\n",
    "    winrates = []\n",
    "    pick_rates = []\n",
    "\n",
    "    for row in rows:\n",
    "        champions.append(row.find_all('td')[1].find('a').text.strip())\n",
    "        winrates.append(float(row.find_all('td')[4].text.strip().replace('%', '')) / 100)\n",
    "        pick_rates.append(float(row.find_all('td')[5].text.strip().replace('%', '')) / 100) \n",
    "\n",
    "    df = pd.DataFrame({'champion': champions, 'winrate': winrates, 'pick_rate': pick_rates})\n",
    "    return df"
   ]
  },
  {
   "cell_type": "code",
   "execution_count": 58,
   "metadata": {},
   "outputs": [],
   "source": [
    "role_rank_patch_winrate = get_role_rank_patch_winrate('top', 'gold', '15.04')"
   ]
  },
  {
   "cell_type": "code",
   "execution_count": 65,
   "metadata": {},
   "outputs": [
    {
     "data": {
      "text/plain": [
       "0     0.5212\n",
       "1     0.5248\n",
       "2     0.5095\n",
       "3     0.5172\n",
       "4     0.5258\n",
       "5     0.5209\n",
       "6     0.5293\n",
       "7     0.5192\n",
       "8     0.5256\n",
       "9     0.5271\n",
       "10    0.5096\n",
       "11    0.5146\n",
       "12    0.5004\n",
       "13    0.5074\n",
       "14    0.5128\n",
       "15    0.5052\n",
       "16    0.5023\n",
       "17    0.5004\n",
       "18    0.5042\n",
       "19    0.5044\n",
       "20    0.5204\n",
       "21    0.4913\n",
       "22    0.5045\n",
       "23    0.4997\n",
       "24    0.5060\n",
       "25    0.5150\n",
       "26    0.5182\n",
       "27    0.4984\n",
       "28    0.5028\n",
       "29    0.5080\n",
       "30    0.4838\n",
       "31    0.4795\n",
       "32    0.4958\n",
       "33    0.4903\n",
       "34    0.5151\n",
       "35    0.4926\n",
       "36    0.4936\n",
       "37    0.5205\n",
       "38    0.4927\n",
       "39    0.5106\n",
       "40    0.5186\n",
       "41    0.5018\n",
       "42    0.4909\n",
       "43    0.4892\n",
       "44    0.4771\n",
       "45    0.4987\n",
       "46    0.5125\n",
       "47    0.4877\n",
       "48    0.4886\n",
       "49    0.5103\n",
       "50    0.4903\n",
       "51    0.4656\n",
       "52    0.5038\n",
       "53    0.4922\n",
       "54    0.4927\n",
       "Name: winrate, dtype: float64"
      ]
     },
     "execution_count": 65,
     "metadata": {},
     "output_type": "execute_result"
    }
   ],
   "source": [
    "role_rank_patch_winrate.winrate"
   ]
  },
  {
   "cell_type": "code",
   "execution_count": 62,
   "metadata": {},
   "outputs": [
    {
     "data": {
      "text/plain": [
       "1.8074000000000001"
      ]
     },
     "execution_count": 62,
     "metadata": {},
     "output_type": "execute_result"
    }
   ],
   "source": [
    "role_rank_patch_winrate.pick_rate.sum()"
   ]
  },
  {
   "cell_type": "code",
   "execution_count": null,
   "metadata": {},
   "outputs": [],
   "source": []
  }
 ],
 "metadata": {
  "kernelspec": {
   "display_name": "base",
   "language": "python",
   "name": "python3"
  },
  "language_info": {
   "codemirror_mode": {
    "name": "ipython",
    "version": 3
   },
   "file_extension": ".py",
   "mimetype": "text/x-python",
   "name": "python",
   "nbconvert_exporter": "python",
   "pygments_lexer": "ipython3",
   "version": "3.11.5"
  }
 },
 "nbformat": 4,
 "nbformat_minor": 2
}
